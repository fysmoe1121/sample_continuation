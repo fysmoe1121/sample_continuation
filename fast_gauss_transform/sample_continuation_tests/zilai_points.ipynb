{
 "cells": [
  {
   "cell_type": "code",
   "execution_count": 64,
   "metadata": {},
   "outputs": [],
   "source": [
    "import numpy as np\n",
    "import pandas as pd\n",
    "import matplotlib.pyplot as plt\n",
    "import os\n",
    "import fgt_main"
   ]
  },
  {
   "cell_type": "code",
   "execution_count": 65,
   "metadata": {},
   "outputs": [],
   "source": [
    "sample_path = np.load(os.path.join(\"zilai_data\", \"sample_path.npy\"))\n",
    "bandwidths = np.load(os.path.join(\"zilai_data\", \"hs.npy\"))\n"
   ]
  },
  {
   "cell_type": "code",
   "execution_count": 66,
   "metadata": {},
   "outputs": [
    {
     "name": "stdout",
     "output_type": "stream",
     "text": [
      "(50, 100, 4)\n",
      "(50,)\n"
     ]
    }
   ],
   "source": [
    "print(sample_path.shape)\n",
    "print(bandwidths.shape)"
   ]
  },
  {
   "cell_type": "code",
   "execution_count": 67,
   "metadata": {},
   "outputs": [],
   "source": [
    "numpy_array = np.random.rand(100, 2)"
   ]
  },
  {
   "cell_type": "code",
   "execution_count": 68,
   "metadata": {},
   "outputs": [
    {
     "data": {
      "text/plain": [
       "0.00012699999967935582"
      ]
     },
     "execution_count": 68,
     "metadata": {},
     "output_type": "execute_result"
    }
   ],
   "source": [
    "fgt_main.timer(\"direct_tree\", 0.2, 1e-4, numpy_array)\n",
    "#fgt_main.timer_row_major(\"direct_tree\", 0.2, 1e-4, numpy_array)"
   ]
  },
  {
   "cell_type": "code",
   "execution_count": 70,
   "metadata": {},
   "outputs": [
    {
     "ename": "AttributeError",
     "evalue": "module 'fgt_main' has no attribute 'timer_row_major'",
     "output_type": "error",
     "traceback": [
      "\u001b[0;31m---------------------------------------------------------------------------\u001b[0m",
      "\u001b[0;31mAttributeError\u001b[0m                            Traceback (most recent call last)",
      "Cell \u001b[0;32mIn[70], line 1\u001b[0m\n\u001b[0;32m----> 1\u001b[0m fgt_main\u001b[38;5;241m.\u001b[39mtimer_row_major(\u001b[38;5;124m\"\u001b[39m\u001b[38;5;124mdirect_tree\u001b[39m\u001b[38;5;124m\"\u001b[39m, \u001b[38;5;241m0.2\u001b[39m, \u001b[38;5;241m1e-4\u001b[39m, numpy_array)\n",
      "\u001b[0;31mAttributeError\u001b[0m: module 'fgt_main' has no attribute 'timer_row_major'"
     ]
    }
   ],
   "source": [
    "fgt_main.timer_row_major(\"direct_tree\", 0.2, 1e-4, numpy_array)"
   ]
  },
  {
   "cell_type": "code",
   "execution_count": null,
   "metadata": {},
   "outputs": [],
   "source": []
  }
 ],
 "metadata": {
  "kernelspec": {
   "display_name": "base",
   "language": "python",
   "name": "python3"
  },
  "language_info": {
   "codemirror_mode": {
    "name": "ipython",
    "version": 3
   },
   "file_extension": ".py",
   "mimetype": "text/x-python",
   "name": "python",
   "nbconvert_exporter": "python",
   "pygments_lexer": "ipython3",
   "version": "3.11.8"
  }
 },
 "nbformat": 4,
 "nbformat_minor": 2
}
